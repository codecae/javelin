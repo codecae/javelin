{
 "cells": [
  {
   "cell_type": "code",
   "execution_count": null,
   "id": "907f598c-3132-400c-9efc-8394b7df08fa",
   "metadata": {},
   "outputs": [],
   "source": [
    "import hvac\n",
    "import os\n",
    "import warnings\n",
    "warnings.filterwarnings('ignore')"
   ]
  },
  {
   "cell_type": "code",
   "execution_count": 31,
   "id": "13e2253a-a221-4c8b-bf2d-ce6b31d0da1b",
   "metadata": {},
   "outputs": [],
   "source": [
    "jwt = open('/var/run/secrets/kubernetes.io/serviceaccount/token').read()\n",
    "url = f\"https://vault.cndp.svc.cluster.local:8200\"\n",
    "client = hvac.Client(url=url,verify=False)\n",
    "auth = client.auth.kubernetes.login(jwt=jwt, role='hub-user')"
   ]
  },
  {
   "cell_type": "code",
   "execution_count": null,
   "id": "de6a7116-0928-484f-98ef-8b148f2a5e9c",
   "metadata": {},
   "outputs": [],
   "source": [
    "auth[\"auth\"][\"client_token\"]"
   ]
  },
  {
   "cell_type": "code",
   "execution_count": null,
   "id": "7488519d-33cf-4bc6-996a-6c73a11ebd9a",
   "metadata": {},
   "outputs": [],
   "source": [
    "client.secrets.azure.generate_credentials('jupyterhub"
   ]
  },
  {
   "cell_type": "code",
   "execution_count": 28,
   "id": "1ff67e07-67cb-4947-8a6b-4297720cbb61",
   "metadata": {},
   "outputs": [
    {
     "data": {
      "text/plain": [
       "'10.43.176.0'"
      ]
     },
     "execution_count": 28,
     "metadata": {},
     "output_type": "execute_result"
    }
   ],
   "source": [
    "os.environ['VAULT_SERVICE_HOST']"
   ]
  },
  {
   "cell_type": "code",
   "execution_count": null,
   "id": "4e171ec3-8c67-48c0-a7a6-fa25e44c8a20",
   "metadata": {},
   "outputs": [],
   "source": []
  }
 ],
 "metadata": {
  "kernelspec": {
   "display_name": "Python 3 (ipykernel)",
   "language": "python",
   "name": "python3"
  },
  "language_info": {
   "codemirror_mode": {
    "name": "ipython",
    "version": 3
   },
   "file_extension": ".py",
   "mimetype": "text/x-python",
   "name": "python",
   "nbconvert_exporter": "python",
   "pygments_lexer": "ipython3",
   "version": "3.9.7"
  }
 },
 "nbformat": 4,
 "nbformat_minor": 5
}
