{
 "cells": [
  {
   "cell_type": "code",
   "execution_count": 1,
   "id": "0f1bd2fe-716e-440e-be69-5565585ea073",
   "metadata": {
    "tags": [
     "parameters"
    ]
   },
   "outputs": [],
   "source": [
    "# parameters\n",
    "schema = 'mgd'\n",
    "table = 'seq_sequence'"
   ]
  },
  {
   "cell_type": "code",
   "execution_count": 2,
   "id": "b5ced93b-619a-4d1c-b9d6-9999498de140",
   "metadata": {},
   "outputs": [],
   "source": [
    "import os\n",
    "from javelin.source import SqlConnection, SqlTableSource\n",
    "from javelin.secret import VaultInjectorSecretProvider\n",
    "from javelin.operators import avro_encoder, AvroCompressionType, json_encoder, parquet_encoder, add_hash\n",
    "from javelin.sink import AzureDataLakeStorageSink, LocalFileSink"
   ]
  },
  {
   "cell_type": "code",
   "execution_count": 3,
   "id": "571d478e-9249-46be-851e-fcea69ae6679",
   "metadata": {},
   "outputs": [],
   "source": [
    "dbcreds = VaultInjectorSecretProvider(filename='core-creds.json')\n",
    "tenant = VaultInjectorSecretProvider(filename='azure-tenant.json')\n",
    "jhrole = VaultInjectorSecretProvider(filename='jupyterhub-role.json')"
   ]
  },
  {
   "cell_type": "raw",
   "id": "6a333535-f615-433d-9490-3a17c3144768",
   "metadata": {},
   "source": [
    "db = SqlConnection(\n",
    "    drivername=\"mssql+pyodbc\",\n",
    "    username=dbcreds.secrets[\"username\"],\n",
    "    password=dbcreds.secrets[\"password\"],\n",
    "    host=\"core.komprest.net\",\n",
    "    port=1433,\n",
    "    database=\"WideWorldImporters\",\n",
    "    driver_options={\n",
    "        \"driver\": \"ODBC Driver 17 for SQL Server\",\n",
    "        \"authentication\": \"SqlPassword\",\n",
    "        \"TrustServerCertificate\":\"yes\"\n",
    "    }\n",
    ")"
   ]
  },
  {
   "cell_type": "code",
   "execution_count": 4,
   "id": "26ba2928-0457-460c-8ce1-23e3569b6ed4",
   "metadata": {},
   "outputs": [],
   "source": [
    "db = SqlConnection(\n",
    "    drivername=\"postgresql+psycopg2\",\n",
    "    username=\"postgres\",\n",
    "    password=\"yppITpUWWq\",\n",
    "    host=\"postgres-postgresql\",\n",
    "    port=5432,\n",
    "    database=\"mgd\"\n",
    ")"
   ]
  },
  {
   "cell_type": "code",
   "execution_count": 5,
   "id": "293df02f-db44-4ccf-b6e4-96f1f4ab6b8a",
   "metadata": {},
   "outputs": [],
   "source": [
    "src = SqlTableSource(config=db)\n",
    "src.schema_name=schema\n",
    "src.table_name=table"
   ]
  },
  {
   "cell_type": "raw",
   "id": "87ab776b-0ee0-4247-bfb5-4eb31ed9650a",
   "metadata": {},
   "source": [
    "adls = AzureDataLakeStorageSink(\n",
    "    tenant_id=tenant.secrets[\"tenant_id\"],\n",
    "    client_id=jhrole.secrets[\"client_id\"],\n",
    "    client_secret=jhrole.secrets[\"client_secret\"],\n",
    "    storage_acct=\"cmbadls2\",\n",
    "    container=\"ingest\"\n",
    ")\n",
    "\n",
    "write = adls.write"
   ]
  },
  {
   "cell_type": "code",
   "execution_count": 6,
   "id": "b243fe7f-d067-4009-84e4-96fb53bbc78e",
   "metadata": {},
   "outputs": [],
   "source": [
    "base_path = os.path.join(os.getcwd(),'out')\n",
    "lfs = LocalFileSink(base_path=base_path)\n",
    "write = lfs.write"
   ]
  },
  {
   "cell_type": "code",
   "execution_count": 7,
   "id": "0088bb01-2531-4928-9b49-d7ac7009e0ed",
   "metadata": {},
   "outputs": [
    {
     "name": "stderr",
     "output_type": "stream",
     "text": [
      "/home/hub/javelin/javelin/source/sql_table_source.py:57: SAWarning: Skipped unsupported reflection of expression-based index bib_refs_idx_authors\n",
      "  self._table = Table(self.table_name, _md, autoload_with=_engine)\n",
      "/home/hub/javelin/javelin/source/sql_table_source.py:57: SAWarning: Skipped unsupported reflection of expression-based index voc_term_0\n",
      "  self._table = Table(self.table_name, _md, autoload_with=_engine)\n"
     ]
    },
    {
     "ename": "KeyboardInterrupt",
     "evalue": "",
     "output_type": "error",
     "traceback": [
      "\u001b[0;31m---------------------------------------------------------------------------\u001b[0m",
      "\u001b[0;31mKeyboardInterrupt\u001b[0m                         Traceback (most recent call last)",
      "Input \u001b[0;32mIn [7]\u001b[0m, in \u001b[0;36m<module>\u001b[0;34m\u001b[0m\n\u001b[0;32m----> 1\u001b[0m flow \u001b[38;5;241m=\u001b[39m \u001b[43msrc\u001b[49m\u001b[38;5;241;43m.\u001b[39;49m\u001b[43mobservable_per\u001b[49m\u001b[43m(\u001b[49m\u001b[43mpartition_rows\u001b[49m\u001b[38;5;241;43m=\u001b[39;49m\u001b[38;5;241;43m250000\u001b[39;49m\u001b[43m)\u001b[49m\u001b[38;5;241;43m.\u001b[39;49m\u001b[43mpipe\u001b[49m\u001b[43m(\u001b[49m\n\u001b[1;32m      2\u001b[0m \u001b[43m    \u001b[49m\u001b[43mavro_encoder\u001b[49m\u001b[43m(\u001b[49m\u001b[43mAvroCompressionType\u001b[49m\u001b[38;5;241;43m.\u001b[39;49m\u001b[43mDEFLATE\u001b[49m\u001b[43m)\u001b[49m\n\u001b[1;32m      3\u001b[0m \u001b[43m)\u001b[49m\u001b[38;5;241;43m.\u001b[39;49m\u001b[43msubscribe\u001b[49m\u001b[43m(\u001b[49m\u001b[38;5;28;43;01mlambda\u001b[39;49;00m\u001b[43m \u001b[49m\u001b[43mi\u001b[49m\u001b[43m:\u001b[49m\u001b[43m \u001b[49m\u001b[43mwrite\u001b[49m\u001b[43m(\u001b[49m\u001b[43mi\u001b[49m\u001b[43m)\u001b[49m\u001b[43m)\u001b[49m\n\u001b[1;32m      4\u001b[0m flow\u001b[38;5;241m.\u001b[39mdispose()\n",
      "File \u001b[0;32m~/.local/lib/python3.9/site-packages/rx/core/observable/observable.py:96\u001b[0m, in \u001b[0;36mObservable.subscribe\u001b[0;34m(self, observer, on_error, on_completed, on_next, scheduler)\u001b[0m\n\u001b[1;32m     94\u001b[0m     \u001b[38;5;28;01melse\u001b[39;00m:\n\u001b[1;32m     95\u001b[0m         on_next \u001b[38;5;241m=\u001b[39m observer\n\u001b[0;32m---> 96\u001b[0m \u001b[38;5;28;01mreturn\u001b[39;00m \u001b[38;5;28;43mself\u001b[39;49m\u001b[38;5;241;43m.\u001b[39;49m\u001b[43msubscribe_\u001b[49m\u001b[43m(\u001b[49m\u001b[43mon_next\u001b[49m\u001b[43m,\u001b[49m\u001b[43m \u001b[49m\u001b[43mon_error\u001b[49m\u001b[43m,\u001b[49m\u001b[43m \u001b[49m\u001b[43mon_completed\u001b[49m\u001b[43m,\u001b[49m\u001b[43m \u001b[49m\u001b[43mscheduler\u001b[49m\u001b[43m)\u001b[49m\n",
      "File \u001b[0;32m~/.local/lib/python3.9/site-packages/rx/core/observable/observable.py:154\u001b[0m, in \u001b[0;36mObservable.subscribe_\u001b[0;34m(self, on_next, on_error, on_completed, scheduler)\u001b[0m\n\u001b[1;32m    152\u001b[0m current_thread_scheduler \u001b[38;5;241m=\u001b[39m CurrentThreadScheduler\u001b[38;5;241m.\u001b[39msingleton()\n\u001b[1;32m    153\u001b[0m \u001b[38;5;28;01mif\u001b[39;00m current_thread_scheduler\u001b[38;5;241m.\u001b[39mschedule_required():\n\u001b[0;32m--> 154\u001b[0m     \u001b[43mcurrent_thread_scheduler\u001b[49m\u001b[38;5;241;43m.\u001b[39;49m\u001b[43mschedule\u001b[49m\u001b[43m(\u001b[49m\u001b[43mset_disposable\u001b[49m\u001b[43m)\u001b[49m\n\u001b[1;32m    155\u001b[0m \u001b[38;5;28;01melse\u001b[39;00m:\n\u001b[1;32m    156\u001b[0m     set_disposable()\n",
      "File \u001b[0;32m~/.local/lib/python3.9/site-packages/rx/scheduler/trampolinescheduler.py:50\u001b[0m, in \u001b[0;36mTrampolineScheduler.schedule\u001b[0;34m(self, action, state)\u001b[0m\n\u001b[1;32m     35\u001b[0m \u001b[38;5;28;01mdef\u001b[39;00m \u001b[38;5;21mschedule\u001b[39m(\u001b[38;5;28mself\u001b[39m,\n\u001b[1;32m     36\u001b[0m              action: typing\u001b[38;5;241m.\u001b[39mScheduledAction,\n\u001b[1;32m     37\u001b[0m              state: Optional[typing\u001b[38;5;241m.\u001b[39mTState] \u001b[38;5;241m=\u001b[39m \u001b[38;5;28;01mNone\u001b[39;00m\n\u001b[1;32m     38\u001b[0m              ) \u001b[38;5;241m-\u001b[39m\u001b[38;5;241m>\u001b[39m typing\u001b[38;5;241m.\u001b[39mDisposable:\n\u001b[1;32m     39\u001b[0m     \u001b[38;5;124;03m\"\"\"Schedules an action to be executed.\u001b[39;00m\n\u001b[1;32m     40\u001b[0m \n\u001b[1;32m     41\u001b[0m \u001b[38;5;124;03m    Args:\u001b[39;00m\n\u001b[0;32m   (...)\u001b[0m\n\u001b[1;32m     47\u001b[0m \u001b[38;5;124;03m        (best effort).\u001b[39;00m\n\u001b[1;32m     48\u001b[0m \u001b[38;5;124;03m    \"\"\"\u001b[39;00m\n\u001b[0;32m---> 50\u001b[0m     \u001b[38;5;28;01mreturn\u001b[39;00m \u001b[38;5;28;43mself\u001b[39;49m\u001b[38;5;241;43m.\u001b[39;49m\u001b[43mschedule_absolute\u001b[49m\u001b[43m(\u001b[49m\u001b[38;5;28;43mself\u001b[39;49m\u001b[38;5;241;43m.\u001b[39;49m\u001b[43mnow\u001b[49m\u001b[43m,\u001b[49m\u001b[43m \u001b[49m\u001b[43maction\u001b[49m\u001b[43m,\u001b[49m\u001b[43m \u001b[49m\u001b[43mstate\u001b[49m\u001b[38;5;241;43m=\u001b[39;49m\u001b[43mstate\u001b[49m\u001b[43m)\u001b[49m\n",
      "File \u001b[0;32m~/.local/lib/python3.9/site-packages/rx/scheduler/trampolinescheduler.py:94\u001b[0m, in \u001b[0;36mTrampolineScheduler.schedule_absolute\u001b[0;34m(self, duetime, action, state)\u001b[0m\n\u001b[1;32m     91\u001b[0m     log\u001b[38;5;241m.\u001b[39mwarning(\u001b[38;5;124m'\u001b[39m\u001b[38;5;124mDo not schedule blocking work!\u001b[39m\u001b[38;5;124m'\u001b[39m)\n\u001b[1;32m     92\u001b[0m item: ScheduledItem \u001b[38;5;241m=\u001b[39m ScheduledItem(\u001b[38;5;28mself\u001b[39m, state, action, dt)\n\u001b[0;32m---> 94\u001b[0m \u001b[38;5;28;43mself\u001b[39;49m\u001b[38;5;241;43m.\u001b[39;49m\u001b[43mget_trampoline\u001b[49m\u001b[43m(\u001b[49m\u001b[43m)\u001b[49m\u001b[38;5;241;43m.\u001b[39;49m\u001b[43mrun\u001b[49m\u001b[43m(\u001b[49m\u001b[43mitem\u001b[49m\u001b[43m)\u001b[49m\n\u001b[1;32m     96\u001b[0m \u001b[38;5;28;01mreturn\u001b[39;00m item\u001b[38;5;241m.\u001b[39mdisposable\n",
      "File \u001b[0;32m~/.local/lib/python3.9/site-packages/rx/scheduler/trampoline.py:31\u001b[0m, in \u001b[0;36mTrampoline.run\u001b[0;34m(self, item)\u001b[0m\n\u001b[1;32m     29\u001b[0m         \u001b[38;5;28;01mreturn\u001b[39;00m\n\u001b[1;32m     30\u001b[0m \u001b[38;5;28;01mtry\u001b[39;00m:\n\u001b[0;32m---> 31\u001b[0m     \u001b[38;5;28;43mself\u001b[39;49m\u001b[38;5;241;43m.\u001b[39;49m\u001b[43m_run\u001b[49m\u001b[43m(\u001b[49m\u001b[43m)\u001b[49m\n\u001b[1;32m     32\u001b[0m \u001b[38;5;28;01mfinally\u001b[39;00m:\n\u001b[1;32m     33\u001b[0m     \u001b[38;5;28;01mwith\u001b[39;00m \u001b[38;5;28mself\u001b[39m\u001b[38;5;241m.\u001b[39m_lock:\n",
      "File \u001b[0;32m~/.local/lib/python3.9/site-packages/rx/scheduler/trampoline.py:52\u001b[0m, in \u001b[0;36mTrampoline._run\u001b[0;34m(self)\u001b[0m\n\u001b[1;32m     50\u001b[0m     item \u001b[38;5;241m=\u001b[39m ready\u001b[38;5;241m.\u001b[39mpopleft()\n\u001b[1;32m     51\u001b[0m     \u001b[38;5;28;01mif\u001b[39;00m \u001b[38;5;129;01mnot\u001b[39;00m item\u001b[38;5;241m.\u001b[39mis_cancelled():\n\u001b[0;32m---> 52\u001b[0m         \u001b[43mitem\u001b[49m\u001b[38;5;241;43m.\u001b[39;49m\u001b[43minvoke\u001b[49m\u001b[43m(\u001b[49m\u001b[43m)\u001b[49m\n\u001b[1;32m     54\u001b[0m \u001b[38;5;28;01mwith\u001b[39;00m \u001b[38;5;28mself\u001b[39m\u001b[38;5;241m.\u001b[39m_lock:\n\u001b[1;32m     55\u001b[0m     \u001b[38;5;28;01mif\u001b[39;00m \u001b[38;5;28mlen\u001b[39m(\u001b[38;5;28mself\u001b[39m\u001b[38;5;241m.\u001b[39m_queue) \u001b[38;5;241m==\u001b[39m \u001b[38;5;241m0\u001b[39m:\n",
      "File \u001b[0;32m~/.local/lib/python3.9/site-packages/rx/scheduler/scheduleditem.py:25\u001b[0m, in \u001b[0;36mScheduledItem.invoke\u001b[0;34m(self)\u001b[0m\n\u001b[1;32m     24\u001b[0m \u001b[38;5;28;01mdef\u001b[39;00m \u001b[38;5;21minvoke\u001b[39m(\u001b[38;5;28mself\u001b[39m) \u001b[38;5;241m-\u001b[39m\u001b[38;5;241m>\u001b[39m \u001b[38;5;28;01mNone\u001b[39;00m:\n\u001b[0;32m---> 25\u001b[0m     ret \u001b[38;5;241m=\u001b[39m \u001b[38;5;28;43mself\u001b[39;49m\u001b[38;5;241;43m.\u001b[39;49m\u001b[43mscheduler\u001b[49m\u001b[38;5;241;43m.\u001b[39;49m\u001b[43minvoke_action\u001b[49m\u001b[43m(\u001b[49m\u001b[38;5;28;43mself\u001b[39;49m\u001b[38;5;241;43m.\u001b[39;49m\u001b[43maction\u001b[49m\u001b[43m,\u001b[49m\u001b[43m \u001b[49m\u001b[43mstate\u001b[49m\u001b[38;5;241;43m=\u001b[39;49m\u001b[38;5;28;43mself\u001b[39;49m\u001b[38;5;241;43m.\u001b[39;49m\u001b[43mstate\u001b[49m\u001b[43m)\u001b[49m\n\u001b[1;32m     26\u001b[0m     \u001b[38;5;28mself\u001b[39m\u001b[38;5;241m.\u001b[39mdisposable\u001b[38;5;241m.\u001b[39mdisposable \u001b[38;5;241m=\u001b[39m ret\n",
      "File \u001b[0;32m~/.local/lib/python3.9/site-packages/rx/scheduler/scheduler.py:103\u001b[0m, in \u001b[0;36mScheduler.invoke_action\u001b[0;34m(self, action, state)\u001b[0m\n\u001b[1;32m     87\u001b[0m \u001b[38;5;28;01mdef\u001b[39;00m \u001b[38;5;21minvoke_action\u001b[39m(\u001b[38;5;28mself\u001b[39m,\n\u001b[1;32m     88\u001b[0m                   action: typing\u001b[38;5;241m.\u001b[39mScheduledAction,\n\u001b[1;32m     89\u001b[0m                   state: Optional[typing\u001b[38;5;241m.\u001b[39mTState] \u001b[38;5;241m=\u001b[39m \u001b[38;5;28;01mNone\u001b[39;00m\n\u001b[1;32m     90\u001b[0m                   ) \u001b[38;5;241m-\u001b[39m\u001b[38;5;241m>\u001b[39m typing\u001b[38;5;241m.\u001b[39mDisposable:\n\u001b[1;32m     91\u001b[0m     \u001b[38;5;124;03m\"\"\"Invoke the given given action. This is typically called by instances\u001b[39;00m\n\u001b[1;32m     92\u001b[0m \u001b[38;5;124;03m    of ScheduledItem.\u001b[39;00m\n\u001b[1;32m     93\u001b[0m \n\u001b[0;32m   (...)\u001b[0m\n\u001b[1;32m    100\u001b[0m \u001b[38;5;124;03m        (no-op) disposable otherwise.\u001b[39;00m\n\u001b[1;32m    101\u001b[0m \u001b[38;5;124;03m    \"\"\"\u001b[39;00m\n\u001b[0;32m--> 103\u001b[0m     ret \u001b[38;5;241m=\u001b[39m \u001b[43maction\u001b[49m\u001b[43m(\u001b[49m\u001b[38;5;28;43mself\u001b[39;49m\u001b[43m,\u001b[49m\u001b[43m \u001b[49m\u001b[43mstate\u001b[49m\u001b[43m)\u001b[49m\n\u001b[1;32m    104\u001b[0m     \u001b[38;5;28;01mif\u001b[39;00m \u001b[38;5;28misinstance\u001b[39m(ret, typing\u001b[38;5;241m.\u001b[39mDisposable):\n\u001b[1;32m    105\u001b[0m         \u001b[38;5;28;01mreturn\u001b[39;00m ret\n",
      "File \u001b[0;32m~/.local/lib/python3.9/site-packages/rx/core/observable/fromiterable.py:34\u001b[0m, in \u001b[0;36mfrom_iterable.<locals>.subscribe.<locals>.action\u001b[0;34m(_, __)\u001b[0m\n\u001b[1;32m     32\u001b[0m     \u001b[38;5;28;01mwhile\u001b[39;00m \u001b[38;5;129;01mnot\u001b[39;00m disposed:\n\u001b[1;32m     33\u001b[0m         value \u001b[38;5;241m=\u001b[39m \u001b[38;5;28mnext\u001b[39m(iterator)\n\u001b[0;32m---> 34\u001b[0m         \u001b[43mobserver\u001b[49m\u001b[38;5;241;43m.\u001b[39;49m\u001b[43mon_next\u001b[49m\u001b[43m(\u001b[49m\u001b[43mvalue\u001b[49m\u001b[43m)\u001b[49m\n\u001b[1;32m     35\u001b[0m \u001b[38;5;28;01mexcept\u001b[39;00m \u001b[38;5;167;01mStopIteration\u001b[39;00m:\n\u001b[1;32m     36\u001b[0m     observer\u001b[38;5;241m.\u001b[39mon_completed()\n",
      "File \u001b[0;32m~/.local/lib/python3.9/site-packages/rx/core/observer/autodetachobserver.py:26\u001b[0m, in \u001b[0;36mAutoDetachObserver.on_next\u001b[0;34m(self, value)\u001b[0m\n\u001b[1;32m     24\u001b[0m \u001b[38;5;28;01mif\u001b[39;00m \u001b[38;5;28mself\u001b[39m\u001b[38;5;241m.\u001b[39mis_stopped:\n\u001b[1;32m     25\u001b[0m     \u001b[38;5;28;01mreturn\u001b[39;00m\n\u001b[0;32m---> 26\u001b[0m \u001b[38;5;28;43mself\u001b[39;49m\u001b[38;5;241;43m.\u001b[39;49m\u001b[43m_on_next\u001b[49m\u001b[43m(\u001b[49m\u001b[43mvalue\u001b[49m\u001b[43m)\u001b[49m\n",
      "File \u001b[0;32m~/javelin/javelin/operators/avro_encoder.py:46\u001b[0m, in \u001b[0;36mavro_encoder.<locals>._avro_encoder.<locals>.subscribe.<locals>.on_next\u001b[0;34m(value)\u001b[0m\n\u001b[1;32m     41\u001b[0m         _datatype \u001b[38;5;241m=\u001b[39m \u001b[38;5;28mstr\u001b[39m(attr\u001b[38;5;241m.\u001b[39mdatatype)\n\u001b[1;32m     42\u001b[0m     _schema[\u001b[38;5;124m\"\u001b[39m\u001b[38;5;124mfields\u001b[39m\u001b[38;5;124m\"\u001b[39m]\u001b[38;5;241m.\u001b[39mappend({\n\u001b[1;32m     43\u001b[0m         \u001b[38;5;124m\"\u001b[39m\u001b[38;5;124mname\u001b[39m\u001b[38;5;124m\"\u001b[39m: attr\u001b[38;5;241m.\u001b[39mname,\n\u001b[1;32m     44\u001b[0m         \u001b[38;5;124m\"\u001b[39m\u001b[38;5;124mtype\u001b[39m\u001b[38;5;124m\"\u001b[39m: (_datatype, [_datatype, \u001b[38;5;124m\"\u001b[39m\u001b[38;5;124mnull\u001b[39m\u001b[38;5;124m\"\u001b[39m])[attr\u001b[38;5;241m.\u001b[39mnullable]\n\u001b[1;32m     45\u001b[0m     })\n\u001b[0;32m---> 46\u001b[0m value\u001b[38;5;241m.\u001b[39mcontent \u001b[38;5;241m=\u001b[39m [(\u001b[38;5;28;01mlambda\u001b[39;00m z: {k:(v\u001b[38;5;241m.\u001b[39misoformat() \u001b[38;5;28;01mif\u001b[39;00m \u001b[38;5;28mtype\u001b[39m(v)\u001b[38;5;241m==\u001b[39mpandas\u001b[38;5;241m.\u001b[39mTimestamp \u001b[38;5;28;01melse\u001b[39;00m v) \u001b[38;5;28;01mfor\u001b[39;00m k,v \u001b[38;5;129;01min\u001b[39;00m z\u001b[38;5;241m.\u001b[39mitems() \u001b[38;5;28;01mif\u001b[39;00m pandas\u001b[38;5;241m.\u001b[39mnotnull(v)})(z) \u001b[38;5;28;01mfor\u001b[39;00m z \u001b[38;5;129;01min\u001b[39;00m \u001b[43mvalue\u001b[49m\u001b[38;5;241;43m.\u001b[39;49m\u001b[43mcontent\u001b[49m\u001b[38;5;241;43m.\u001b[39;49m\u001b[43mto_dict\u001b[49m\u001b[43m(\u001b[49m\u001b[38;5;124;43m'\u001b[39;49m\u001b[38;5;124;43mrecords\u001b[39;49m\u001b[38;5;124;43m'\u001b[39;49m\u001b[43m)\u001b[49m]\n\u001b[1;32m     47\u001b[0m writer(_bytes, parse_schema(_schema), value\u001b[38;5;241m.\u001b[39mcontent, codec\u001b[38;5;241m=\u001b[39mcompressionType\u001b[38;5;241m.\u001b[39mvalue)\n\u001b[1;32m     48\u001b[0m value\u001b[38;5;241m.\u001b[39mheader\u001b[38;5;241m.\u001b[39mobject_format \u001b[38;5;241m=\u001b[39m \u001b[38;5;124m'\u001b[39m\u001b[38;5;124mavro\u001b[39m\u001b[38;5;124m'\u001b[39m\n",
      "File \u001b[0;32m/opt/conda/lib/python3.9/site-packages/pandas/core/frame.py:1947\u001b[0m, in \u001b[0;36mDataFrame.to_dict\u001b[0;34m(self, orient, into)\u001b[0m\n\u001b[1;32m   1942\u001b[0m     columns \u001b[38;5;241m=\u001b[39m \u001b[38;5;28mself\u001b[39m\u001b[38;5;241m.\u001b[39mcolumns\u001b[38;5;241m.\u001b[39mtolist()\n\u001b[1;32m   1943\u001b[0m     rows \u001b[38;5;241m=\u001b[39m (\n\u001b[1;32m   1944\u001b[0m         \u001b[38;5;28mdict\u001b[39m(\u001b[38;5;28mzip\u001b[39m(columns, row))\n\u001b[1;32m   1945\u001b[0m         \u001b[38;5;28;01mfor\u001b[39;00m row \u001b[38;5;129;01min\u001b[39;00m \u001b[38;5;28mself\u001b[39m\u001b[38;5;241m.\u001b[39mitertuples(index\u001b[38;5;241m=\u001b[39m\u001b[38;5;28;01mFalse\u001b[39;00m, name\u001b[38;5;241m=\u001b[39m\u001b[38;5;28;01mNone\u001b[39;00m)\n\u001b[1;32m   1946\u001b[0m     )\n\u001b[0;32m-> 1947\u001b[0m     \u001b[38;5;28;01mreturn\u001b[39;00m [\n\u001b[1;32m   1948\u001b[0m         into_c((k, maybe_box_native(v)) \u001b[38;5;28;01mfor\u001b[39;00m k, v \u001b[38;5;129;01min\u001b[39;00m row\u001b[38;5;241m.\u001b[39mitems()) \u001b[38;5;28;01mfor\u001b[39;00m row \u001b[38;5;129;01min\u001b[39;00m rows\n\u001b[1;32m   1949\u001b[0m     ]\n\u001b[1;32m   1951\u001b[0m \u001b[38;5;28;01melif\u001b[39;00m orient \u001b[38;5;241m==\u001b[39m \u001b[38;5;124m\"\u001b[39m\u001b[38;5;124mindex\u001b[39m\u001b[38;5;124m\"\u001b[39m:\n\u001b[1;32m   1952\u001b[0m     \u001b[38;5;28;01mif\u001b[39;00m \u001b[38;5;129;01mnot\u001b[39;00m \u001b[38;5;28mself\u001b[39m\u001b[38;5;241m.\u001b[39mindex\u001b[38;5;241m.\u001b[39mis_unique:\n",
      "File \u001b[0;32m/opt/conda/lib/python3.9/site-packages/pandas/core/frame.py:1947\u001b[0m, in \u001b[0;36m<listcomp>\u001b[0;34m(.0)\u001b[0m\n\u001b[1;32m   1942\u001b[0m     columns \u001b[38;5;241m=\u001b[39m \u001b[38;5;28mself\u001b[39m\u001b[38;5;241m.\u001b[39mcolumns\u001b[38;5;241m.\u001b[39mtolist()\n\u001b[1;32m   1943\u001b[0m     rows \u001b[38;5;241m=\u001b[39m (\n\u001b[1;32m   1944\u001b[0m         \u001b[38;5;28mdict\u001b[39m(\u001b[38;5;28mzip\u001b[39m(columns, row))\n\u001b[1;32m   1945\u001b[0m         \u001b[38;5;28;01mfor\u001b[39;00m row \u001b[38;5;129;01min\u001b[39;00m \u001b[38;5;28mself\u001b[39m\u001b[38;5;241m.\u001b[39mitertuples(index\u001b[38;5;241m=\u001b[39m\u001b[38;5;28;01mFalse\u001b[39;00m, name\u001b[38;5;241m=\u001b[39m\u001b[38;5;28;01mNone\u001b[39;00m)\n\u001b[1;32m   1946\u001b[0m     )\n\u001b[0;32m-> 1947\u001b[0m     \u001b[38;5;28;01mreturn\u001b[39;00m [\n\u001b[1;32m   1948\u001b[0m         into_c((k, maybe_box_native(v)) \u001b[38;5;28;01mfor\u001b[39;00m k, v \u001b[38;5;129;01min\u001b[39;00m row\u001b[38;5;241m.\u001b[39mitems()) \u001b[38;5;28;01mfor\u001b[39;00m row \u001b[38;5;129;01min\u001b[39;00m rows\n\u001b[1;32m   1949\u001b[0m     ]\n\u001b[1;32m   1951\u001b[0m \u001b[38;5;28;01melif\u001b[39;00m orient \u001b[38;5;241m==\u001b[39m \u001b[38;5;124m\"\u001b[39m\u001b[38;5;124mindex\u001b[39m\u001b[38;5;124m\"\u001b[39m:\n\u001b[1;32m   1952\u001b[0m     \u001b[38;5;28;01mif\u001b[39;00m \u001b[38;5;129;01mnot\u001b[39;00m \u001b[38;5;28mself\u001b[39m\u001b[38;5;241m.\u001b[39mindex\u001b[38;5;241m.\u001b[39mis_unique:\n",
      "File \u001b[0;32m/opt/conda/lib/python3.9/site-packages/pandas/core/frame.py:1943\u001b[0m, in \u001b[0;36m<genexpr>\u001b[0;34m(.0)\u001b[0m\n\u001b[1;32m   1941\u001b[0m \u001b[38;5;28;01melif\u001b[39;00m orient \u001b[38;5;241m==\u001b[39m \u001b[38;5;124m\"\u001b[39m\u001b[38;5;124mrecords\u001b[39m\u001b[38;5;124m\"\u001b[39m:\n\u001b[1;32m   1942\u001b[0m     columns \u001b[38;5;241m=\u001b[39m \u001b[38;5;28mself\u001b[39m\u001b[38;5;241m.\u001b[39mcolumns\u001b[38;5;241m.\u001b[39mtolist()\n\u001b[0;32m-> 1943\u001b[0m     rows \u001b[38;5;241m=\u001b[39m (\n\u001b[1;32m   1944\u001b[0m         \u001b[38;5;28mdict\u001b[39m(\u001b[38;5;28mzip\u001b[39m(columns, row))\n\u001b[1;32m   1945\u001b[0m         \u001b[38;5;28;01mfor\u001b[39;00m row \u001b[38;5;129;01min\u001b[39;00m \u001b[38;5;28mself\u001b[39m\u001b[38;5;241m.\u001b[39mitertuples(index\u001b[38;5;241m=\u001b[39m\u001b[38;5;28;01mFalse\u001b[39;00m, name\u001b[38;5;241m=\u001b[39m\u001b[38;5;28;01mNone\u001b[39;00m)\n\u001b[1;32m   1946\u001b[0m     )\n\u001b[1;32m   1947\u001b[0m     \u001b[38;5;28;01mreturn\u001b[39;00m [\n\u001b[1;32m   1948\u001b[0m         into_c((k, maybe_box_native(v)) \u001b[38;5;28;01mfor\u001b[39;00m k, v \u001b[38;5;129;01min\u001b[39;00m row\u001b[38;5;241m.\u001b[39mitems()) \u001b[38;5;28;01mfor\u001b[39;00m row \u001b[38;5;129;01min\u001b[39;00m rows\n\u001b[1;32m   1949\u001b[0m     ]\n\u001b[1;32m   1951\u001b[0m \u001b[38;5;28;01melif\u001b[39;00m orient \u001b[38;5;241m==\u001b[39m \u001b[38;5;124m\"\u001b[39m\u001b[38;5;124mindex\u001b[39m\u001b[38;5;124m\"\u001b[39m:\n",
      "File \u001b[0;32m/opt/conda/lib/python3.9/site-packages/pandas/core/arrays/masked.py:240\u001b[0m, in \u001b[0;36mBaseMaskedArray.__iter__\u001b[0;34m(self)\u001b[0m\n\u001b[1;32m    238\u001b[0m             \u001b[38;5;28;01myield\u001b[39;00m \u001b[38;5;28mself\u001b[39m\u001b[38;5;241m.\u001b[39mdtype\u001b[38;5;241m.\u001b[39mna_value\n\u001b[1;32m    239\u001b[0m         \u001b[38;5;28;01melse\u001b[39;00m:\n\u001b[0;32m--> 240\u001b[0m             \u001b[38;5;28;01myield\u001b[39;00m \u001b[38;5;28;43mself\u001b[39;49m\u001b[38;5;241;43m.\u001b[39;49m\u001b[43m_data\u001b[49m[i]\n\u001b[1;32m    241\u001b[0m \u001b[38;5;28;01melse\u001b[39;00m:\n\u001b[1;32m    242\u001b[0m     \u001b[38;5;28;01mfor\u001b[39;00m i \u001b[38;5;129;01min\u001b[39;00m \u001b[38;5;28mrange\u001b[39m(\u001b[38;5;28mlen\u001b[39m(\u001b[38;5;28mself\u001b[39m)):\n",
      "\u001b[0;31mKeyboardInterrupt\u001b[0m: "
     ]
    }
   ],
   "source": [
    "flow = src.observable_per(partition_rows=250000).pipe(\n",
    "    avro_encoder(AvroCompressionType.DEFLATE)\n",
    ").subscribe(lambda i: write(i))\n",
    "flow.dispose()"
   ]
  },
  {
   "cell_type": "code",
   "execution_count": null,
   "id": "0bf1fa78-f601-41de-979d-27a38a543c62",
   "metadata": {},
   "outputs": [],
   "source": []
  }
 ],
 "metadata": {
  "kernelspec": {
   "display_name": "Python 3 (ipykernel)",
   "language": "python",
   "name": "python3"
  },
  "language_info": {
   "codemirror_mode": {
    "name": "ipython",
    "version": 3
   },
   "file_extension": ".py",
   "mimetype": "text/x-python",
   "name": "python",
   "nbconvert_exporter": "python",
   "pygments_lexer": "ipython3",
   "version": "3.9.7"
  }
 },
 "nbformat": 4,
 "nbformat_minor": 5
}
