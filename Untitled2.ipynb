{
 "cells": [
  {
   "cell_type": "code",
   "execution_count": 3,
   "id": "0f1bd2fe-716e-440e-be69-5565585ea073",
   "metadata": {
    "tags": [
     "parameters"
    ]
   },
   "outputs": [],
   "source": [
    "# parameters\n",
    "schema = 'Sales'\n",
    "table = 'InvoiceLines'"
   ]
  },
  {
   "cell_type": "code",
   "execution_count": 4,
   "id": "b5ced93b-619a-4d1c-b9d6-9999498de140",
   "metadata": {},
   "outputs": [],
   "source": [
    "from javelin.source import SqlServerConnection, SqlServerSource\n",
    "from javelin.secret import VaultInjectorSecretProvider\n",
    "from javelin.operators import avro_encoder, json_encoder, parquet_encoder, add_hash\n",
    "from javelin.sink import AzureDataLakeStorageSink"
   ]
  },
  {
   "cell_type": "code",
   "execution_count": null,
   "id": "571d478e-9249-46be-851e-fcea69ae6679",
   "metadata": {},
   "outputs": [],
   "source": [
    "dbcreds = VaultInjectorSecretProvider(filename='core-creds.json')\n",
    "tenant = VaultInjectorSecretProvider(filename='azure-tenant.json')\n",
    "jhrole = VaultInjectorSecretProvider(filename='jupyterhub-role.json')"
   ]
  },
  {
   "cell_type": "code",
   "execution_count": 6,
   "id": "3169672d-0beb-4650-bd61-3d9ab54a9d4c",
   "metadata": {},
   "outputs": [],
   "source": [
    "db = SqlServerConnection(\n",
    "    username=dbcreds.secrets[\"username\"],\n",
    "    password=dbcreds.secrets[\"password\"],\n",
    "    host=\"core.komprest.net\",\n",
    "    port=1433,\n",
    "    database=\"WideWorldImporters\",\n",
    "    driver_options={\n",
    "        \"driver\": \"ODBC Driver 17 for SQL Server\",\n",
    "        \"authentication\": \"SqlPassword\",\n",
    "        \"TrustServerCertificate\":\"yes\"\n",
    "    }\n",
    ")"
   ]
  },
  {
   "cell_type": "code",
   "execution_count": 7,
   "id": "293df02f-db44-4ccf-b6e4-96f1f4ab6b8a",
   "metadata": {},
   "outputs": [],
   "source": [
    "src = SqlServerSource(config=db)\n",
    "src.schema_name=schema\n",
    "src.table_name=table"
   ]
  },
  {
   "cell_type": "code",
   "execution_count": 10,
   "id": "0088bb01-2531-4928-9b49-d7ac7009e0ed",
   "metadata": {},
   "outputs": [
    {
     "name": "stderr",
     "output_type": "stream",
     "text": [
      "/home/hub/javelin/javelin/source/sql_server_source.py:69: SAWarning: Did not recognize type 'geography' of column 'DeliveryLocation'\n",
      "  self._table = Table(self.table_name, _md, autoload_with=_engine)\n",
      "/home/hub/javelin/javelin/source/sql_server_source.py:69: SAWarning: Did not recognize type 'geography' of column 'Location'\n",
      "  self._table = Table(self.table_name, _md, autoload_with=_engine)\n",
      "/home/hub/javelin/javelin/source/sql_server_source.py:69: SAWarning: Did not recognize type 'geography' of column 'Border'\n",
      "  self._table = Table(self.table_name, _md, autoload_with=_engine)\n"
     ]
    }
   ],
   "source": [
    "adls = AzureDataLakeStorageSink(\n",
    "    tenant_id=tenant.secrets[\"tenant_id\"],\n",
    "    client_id=jhrole.secrets[\"client_id\"],\n",
    "    client_secret=jhrole.secrets[\"client_secret\"],\n",
    "    storage_acct=\"cmbadls2\",\n",
    "    container=\"ingest\"\n",
    ")\n",
    "\n",
    "flow = src.observable_per(rows=100000).pipe(\n",
    "    add_hash(),\n",
    "    avro_encoder()\n",
    ").subscribe(lambda i: adls.write(i))\n",
    "flow.dispose()"
   ]
  },
  {
   "cell_type": "code",
   "execution_count": null,
   "id": "4b78bb1b-c93a-4979-bc7d-08eb10f7ed92",
   "metadata": {},
   "outputs": [],
   "source": []
  }
 ],
 "metadata": {
  "kernelspec": {
   "display_name": "Python 3 (ipykernel)",
   "language": "python",
   "name": "python3"
  },
  "language_info": {
   "codemirror_mode": {
    "name": "ipython",
    "version": 3
   },
   "file_extension": ".py",
   "mimetype": "text/x-python",
   "name": "python",
   "nbconvert_exporter": "python",
   "pygments_lexer": "ipython3",
   "version": "3.9.7"
  }
 },
 "nbformat": 4,
 "nbformat_minor": 5
}
