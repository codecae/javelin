{
 "cells": [
  {
   "cell_type": "code",
   "execution_count": 1,
   "id": "0f1bd2fe-716e-440e-be69-5565585ea073",
   "metadata": {
    "tags": [
     "parameters"
    ]
   },
   "outputs": [],
   "source": [
    "# parameters\n",
    "schema = 'mgd'\n",
    "table = 'seq_sequence'"
   ]
  },
  {
   "cell_type": "code",
   "execution_count": 2,
   "id": "b5ced93b-619a-4d1c-b9d6-9999498de140",
   "metadata": {},
   "outputs": [],
   "source": [
    "import os\n",
    "from javelin.source import SqlConnection, SqlTableSource\n",
    "from javelin.secret import VaultInjectorSecretProvider\n",
    "from javelin.operators import avro_encoder, AvroCompressionType, json_encoder, parquet_encoder, add_hash\n",
    "from javelin.sink import AzureDataLakeStorageSink, LocalFileSink"
   ]
  },
  {
   "cell_type": "raw",
   "id": "2f90700b-13a9-46eb-8ec7-f99f2b0288d0",
   "metadata": {},
   "source": [
    "dbcreds = VaultInjectorSecretProvider(filename='core-creds.json')\n",
    "tenant = VaultInjectorSecretProvider(filename='azure-tenant.json')\n",
    "jhrole = VaultInjectorSecretProvider(filename='jupyterhub-role.json')"
   ]
  },
  {
   "cell_type": "raw",
   "id": "6a333535-f615-433d-9490-3a17c3144768",
   "metadata": {},
   "source": [
    "db = SqlConnection(\n",
    "    drivername=\"mssql+pyodbc\",\n",
    "    username=dbcreds.secrets[\"username\"],\n",
    "    password=dbcreds.secrets[\"password\"],\n",
    "    host=\"core.komprest.net\",\n",
    "    port=1433,\n",
    "    database=\"WideWorldImporters\",\n",
    "    driver_options={\n",
    "        \"driver\": \"ODBC Driver 17 for SQL Server\",\n",
    "        \"authentication\": \"SqlPassword\",\n",
    "        \"TrustServerCertificate\":\"yes\"\n",
    "    }\n",
    ")"
   ]
  },
  {
   "cell_type": "code",
   "execution_count": 4,
   "id": "26ba2928-0457-460c-8ce1-23e3569b6ed4",
   "metadata": {},
   "outputs": [],
   "source": [
    "db = SqlConnection(\n",
    "    drivername=\"postgresql+psycopg2\",\n",
    "    username=\"postgres\",\n",
    "    password=\"yppITpUWWq\",\n",
    "    host=\"postgres-postgresql\",\n",
    "    port=5432,\n",
    "    database=\"mgd\"\n",
    ")"
   ]
  },
  {
   "cell_type": "code",
   "execution_count": 5,
   "id": "293df02f-db44-4ccf-b6e4-96f1f4ab6b8a",
   "metadata": {},
   "outputs": [],
   "source": [
    "src = SqlTableSource(config=db)\n",
    "src.schema_name=schema\n",
    "src.table_name=table"
   ]
  },
  {
   "cell_type": "raw",
   "id": "87ab776b-0ee0-4247-bfb5-4eb31ed9650a",
   "metadata": {},
   "source": [
    "adls = AzureDataLakeStorageSink(\n",
    "    tenant_id=tenant.secrets[\"tenant_id\"],\n",
    "    client_id=jhrole.secrets[\"client_id\"],\n",
    "    client_secret=jhrole.secrets[\"client_secret\"],\n",
    "    storage_acct=\"cmbadls2\",\n",
    "    container=\"ingest\"\n",
    ")\n",
    "\n",
    "write = adls.write"
   ]
  },
  {
   "cell_type": "code",
   "execution_count": 6,
   "id": "b243fe7f-d067-4009-84e4-96fb53bbc78e",
   "metadata": {},
   "outputs": [],
   "source": [
    "base_path = os.path.join(os.getcwd(),'out')\n",
    "lfs = LocalFileSink(base_path=base_path)\n",
    "write = lfs.write"
   ]
  },
  {
   "cell_type": "code",
   "execution_count": null,
   "id": "0088bb01-2531-4928-9b49-d7ac7009e0ed",
   "metadata": {},
   "outputs": [],
   "source": [
    "flow = src.observable_per(partition_rows=250000).pipe(\n",
    "    avro_encoder(AvroCompressionType.DEFLATE)\n",
    ").subscribe(lambda i: write(i))\n",
    "flow.dispose()"
   ]
  },
  {
   "cell_type": "code",
   "execution_count": 7,
   "id": "0bf1fa78-f601-41de-979d-27a38a543c62",
   "metadata": {},
   "outputs": [
    {
     "name": "stderr",
     "output_type": "stream",
     "text": [
      "/home/hub/javelin/javelin/source/sql_table_source.py:57: SAWarning: Skipped unsupported reflection of expression-based index bib_refs_idx_authors\n",
      "  self._table = Table(self.table_name, _md, autoload_with=_engine)\n",
      "/home/hub/javelin/javelin/source/sql_table_source.py:57: SAWarning: Skipped unsupported reflection of expression-based index voc_term_0\n",
      "  self._table = Table(self.table_name, _md, autoload_with=_engine)\n"
     ]
    }
   ],
   "source": [
    "for value in src.yield_per(10):\n",
    "    break"
   ]
  },
  {
   "cell_type": "code",
   "execution_count": 8,
   "id": "8198a495-6521-43d6-b5cd-cee8c1559054",
   "metadata": {},
   "outputs": [
    {
     "data": {
      "text/plain": [
       "[(254518, 316346, 316338, 316342, 316375, 1, 3854, 'Mus musculus adult male diencephalon cDNA, RIKEN full-length enriched library, clone:9330166A01 product:hypothetical Prenyl group binding site (CAAX box)/RNA-binding region RNP-1  (RNA recognition motif) containing protein, full insert sequenc', '1', 'HTC', 0, 0, datetime.datetime(2010, 10, 6, 0, 0), datetime.datetime(2004, 4, 3, 0, 0), 1308, 1308, datetime.datetime(2004, 5, 21, 14, 44, 15, 720000), datetime.datetime(2010, 10, 10, 2, 4, 14, 110000)),\n",
       " (254519, 316346, 316338, 316342, 316375, 1, 3386, 'Mus musculus adult male diencephalon cDNA, RIKEN full-length enriched library, clone:9330166A08 product:unclassifiable, full insert sequence.', '1', 'HTC', 0, 0, datetime.datetime(2010, 10, 6, 0, 0), datetime.datetime(2004, 4, 3, 0, 0), 1308, 1308, datetime.datetime(2004, 5, 21, 14, 44, 15, 726000), datetime.datetime(2010, 10, 10, 2, 4, 14, 116000)),\n",
       " (254520, 316346, 316338, 316342, 316375, 1, 3400, 'Mus musculus adult male diencephalon cDNA, RIKEN full-length enriched library, clone:9330166H09 product:unclassifiable, full insert sequence.', '1', 'HTC', 0, 0, datetime.datetime(2010, 10, 6, 0, 0), datetime.datetime(2004, 4, 3, 0, 0), 1308, 1308, datetime.datetime(2004, 5, 21, 14, 44, 15, 736000), datetime.datetime(2010, 10, 10, 2, 4, 14, 123000)),\n",
       " (254521, 316346, 316338, 316342, 316375, 1, 2150, 'Mus musculus adult male diencephalon cDNA, RIKEN full-length enriched library, clone:9330166I03 product:unclassifiable, full insert sequence.', '1', 'HTC', 0, 0, datetime.datetime(2010, 10, 6, 0, 0), datetime.datetime(2004, 4, 3, 0, 0), 1308, 1308, datetime.datetime(2004, 5, 21, 14, 44, 15, 743000), datetime.datetime(2010, 10, 10, 2, 4, 14, 130000)),\n",
       " (254522, 316346, 316338, 316342, 316375, 1, 1717, 'Mus musculus adult male diencephalon cDNA, RIKEN full-length enriched library, clone:9330166I04 product:similar to SIALIDASE (EC 3.2.1.18) [Homo sapiens], full insert sequence.', '1', 'HTC', 0, 0, datetime.datetime(2010, 10, 6, 0, 0), datetime.datetime(2004, 4, 3, 0, 0), 1308, 1308, datetime.datetime(2004, 5, 21, 14, 44, 15, 753000), datetime.datetime(2010, 10, 10, 2, 4, 14, 136000)),\n",
       " (254523, 316346, 316338, 316342, 316375, 1, 4630, 'Mus musculus adult male diencephalon cDNA, RIKEN full-length enriched library, clone:9330166I05 product:solute carrier family 4 (anion exchanger), member 8, full insert sequence.', '1', 'HTC', 0, 0, datetime.datetime(2010, 10, 6, 0, 0), datetime.datetime(2004, 4, 3, 0, 0), 1308, 1308, datetime.datetime(2004, 5, 21, 14, 44, 15, 763000), datetime.datetime(2010, 10, 10, 2, 4, 14, 143000)),\n",
       " (254524, 316346, 316338, 316342, 316375, 1, 3690, 'Mus musculus adult male diencephalon cDNA, RIKEN full-length enriched library, clone:9330166I09 product:weakly similar to SUPER CYSTEINE RICH PROTEIN (FRAGMENT) [Homo sapiens], full insert sequence.', '1', 'HTC', 0, 0, datetime.datetime(2010, 10, 6, 0, 0), datetime.datetime(2004, 4, 3, 0, 0), 1308, 1308, datetime.datetime(2004, 5, 21, 14, 44, 15, 770000), datetime.datetime(2010, 10, 10, 2, 4, 14, 150000)),\n",
       " (254525, 316346, 316338, 316342, 316375, 1, 3884, 'Mus musculus adult male diencephalon cDNA, RIKEN full-length enriched library, clone:9330166N11 product:sema domain, immunoglobulin domain (Ig), short basic domain, secreted, (semaphorin) 3C, full insert sequence.', '1', 'HTC', 0, 0, datetime.datetime(2010, 10, 6, 0, 0), datetime.datetime(2004, 4, 3, 0, 0), 1308, 1308, datetime.datetime(2004, 5, 21, 14, 44, 15, 780000), datetime.datetime(2010, 10, 10, 2, 4, 14, 156000)),\n",
       " (254526, 316346, 316338, 316342, 316375, 1, 2544, 'Mus musculus adult male diencephalon cDNA, RIKEN full-length enriched library, clone:9330166N20 product:hypothetical protein, full insert sequence.', '1', 'HTC', 0, 0, datetime.datetime(2010, 10, 6, 0, 0), datetime.datetime(2004, 4, 3, 0, 0), 1308, 1308, datetime.datetime(2004, 5, 21, 14, 44, 15, 790000), datetime.datetime(2010, 10, 10, 2, 4, 14, 163000)),\n",
       " (254527, 316346, 316338, 316342, 316375, 1, 1898, 'Mus musculus adult male diencephalon cDNA, RIKEN full-length enriched library, clone:9330167E06 product:unclassifiable, full insert sequence.', '1', 'HTC', 0, 0, datetime.datetime(2010, 10, 6, 0, 0), datetime.datetime(2004, 4, 3, 0, 0), 1308, 1308, datetime.datetime(2004, 5, 21, 14, 44, 15, 796000), datetime.datetime(2010, 10, 10, 2, 4, 14, 166000))]"
      ]
     },
     "execution_count": 8,
     "metadata": {},
     "output_type": "execute_result"
    }
   ],
   "source": [
    "value.content"
   ]
  },
  {
   "cell_type": "code",
   "execution_count": 1,
   "id": "6d5f2c8f-6747-420b-bd76-4a0777f3a475",
   "metadata": {},
   "outputs": [],
   "source": [
    "from pyspark.sql import SparkSession"
   ]
  },
  {
   "cell_type": "code",
   "execution_count": 2,
   "id": "41620ffb-d093-4ac4-989f-cd6382bd8d4c",
   "metadata": {},
   "outputs": [
    {
     "name": "stderr",
     "output_type": "stream",
     "text": [
      "Using Spark's default log4j profile: org/apache/spark/log4j-defaults.properties\n",
      "Setting default log level to \"WARN\".\n",
      "To adjust logging level use sc.setLogLevel(newLevel). For SparkR, use setLogLevel(newLevel).\n",
      "22/03/21 12:34:01 WARN NativeCodeLoader: Unable to load native-hadoop library for your platform... using builtin-java classes where applicable\n"
     ]
    }
   ],
   "source": [
    "session = SparkSession.builder.master('spark://spark-master-svc:7077').appName(\"test.com\").getOrCreate()"
   ]
  },
  {
   "cell_type": "code",
   "execution_count": 5,
   "id": "0be7b9c5-f310-4a18-99cf-16ef2621338b",
   "metadata": {},
   "outputs": [],
   "source": [
    "rdd = session.sparkContext.parallelize([1,2])"
   ]
  },
  {
   "cell_type": "code",
   "execution_count": 6,
   "id": "de8fcbe4-0caa-458f-83ab-960e520432a7",
   "metadata": {},
   "outputs": [
    {
     "name": "stderr",
     "output_type": "stream",
     "text": [
      "22/03/21 12:34:21 WARN TaskSchedulerImpl: Initial job has not accepted any resources; check your cluster UI to ensure that workers are registered and have sufficient resources\n",
      "22/03/21 12:34:36 WARN TaskSchedulerImpl: Initial job has not accepted any resources; check your cluster UI to ensure that workers are registered and have sufficient resources\n",
      "ERROR:root:KeyboardInterrupt while sending command.\n",
      "Traceback (most recent call last):\n",
      "  File \"/opt/conda/lib/python3.9/site-packages/py4j/java_gateway.py\", line 1038, in send_command\n",
      "    response = connection.send_command(command)\n",
      "  File \"/opt/conda/lib/python3.9/site-packages/py4j/clientserver.py\", line 475, in send_command\n",
      "    answer = smart_decode(self.stream.readline()[:-1])\n",
      "  File \"/opt/conda/lib/python3.9/socket.py\", line 704, in readinto\n",
      "    return self._sock.recv_into(b)\n",
      "KeyboardInterrupt\n"
     ]
    },
    {
     "ename": "KeyboardInterrupt",
     "evalue": "",
     "output_type": "error",
     "traceback": [
      "\u001b[0;31m---------------------------------------------------------------------------\u001b[0m",
      "\u001b[0;31mKeyboardInterrupt\u001b[0m                         Traceback (most recent call last)",
      "Input \u001b[0;32mIn [6]\u001b[0m, in \u001b[0;36m<module>\u001b[0;34m\u001b[0m\n\u001b[0;32m----> 1\u001b[0m \u001b[43mrdd\u001b[49m\u001b[38;5;241;43m.\u001b[39;49m\u001b[43mcount\u001b[49m\u001b[43m(\u001b[49m\u001b[43m)\u001b[49m\n",
      "File \u001b[0;32m/opt/conda/lib/python3.9/site-packages/pyspark/rdd.py:1237\u001b[0m, in \u001b[0;36mRDD.count\u001b[0;34m(self)\u001b[0m\n\u001b[1;32m   1228\u001b[0m \u001b[38;5;28;01mdef\u001b[39;00m \u001b[38;5;21mcount\u001b[39m(\u001b[38;5;28mself\u001b[39m):\n\u001b[1;32m   1229\u001b[0m     \u001b[38;5;124;03m\"\"\"\u001b[39;00m\n\u001b[1;32m   1230\u001b[0m \u001b[38;5;124;03m    Return the number of elements in this RDD.\u001b[39;00m\n\u001b[1;32m   1231\u001b[0m \n\u001b[0;32m   (...)\u001b[0m\n\u001b[1;32m   1235\u001b[0m \u001b[38;5;124;03m    3\u001b[39;00m\n\u001b[1;32m   1236\u001b[0m \u001b[38;5;124;03m    \"\"\"\u001b[39;00m\n\u001b[0;32m-> 1237\u001b[0m     \u001b[38;5;28;01mreturn\u001b[39;00m \u001b[38;5;28;43mself\u001b[39;49m\u001b[38;5;241;43m.\u001b[39;49m\u001b[43mmapPartitions\u001b[49m\u001b[43m(\u001b[49m\u001b[38;5;28;43;01mlambda\u001b[39;49;00m\u001b[43m \u001b[49m\u001b[43mi\u001b[49m\u001b[43m:\u001b[49m\u001b[43m \u001b[49m\u001b[43m[\u001b[49m\u001b[38;5;28;43msum\u001b[39;49m\u001b[43m(\u001b[49m\u001b[38;5;241;43m1\u001b[39;49m\u001b[43m \u001b[49m\u001b[38;5;28;43;01mfor\u001b[39;49;00m\u001b[43m \u001b[49m\u001b[43m_\u001b[49m\u001b[43m \u001b[49m\u001b[38;5;129;43;01min\u001b[39;49;00m\u001b[43m \u001b[49m\u001b[43mi\u001b[49m\u001b[43m)\u001b[49m\u001b[43m]\u001b[49m\u001b[43m)\u001b[49m\u001b[38;5;241;43m.\u001b[39;49m\u001b[43msum\u001b[49m\u001b[43m(\u001b[49m\u001b[43m)\u001b[49m\n",
      "File \u001b[0;32m/opt/conda/lib/python3.9/site-packages/pyspark/rdd.py:1226\u001b[0m, in \u001b[0;36mRDD.sum\u001b[0;34m(self)\u001b[0m\n\u001b[1;32m   1217\u001b[0m \u001b[38;5;28;01mdef\u001b[39;00m \u001b[38;5;21msum\u001b[39m(\u001b[38;5;28mself\u001b[39m):\n\u001b[1;32m   1218\u001b[0m     \u001b[38;5;124;03m\"\"\"\u001b[39;00m\n\u001b[1;32m   1219\u001b[0m \u001b[38;5;124;03m    Add up the elements in this RDD.\u001b[39;00m\n\u001b[1;32m   1220\u001b[0m \n\u001b[0;32m   (...)\u001b[0m\n\u001b[1;32m   1224\u001b[0m \u001b[38;5;124;03m    6.0\u001b[39;00m\n\u001b[1;32m   1225\u001b[0m \u001b[38;5;124;03m    \"\"\"\u001b[39;00m\n\u001b[0;32m-> 1226\u001b[0m     \u001b[38;5;28;01mreturn\u001b[39;00m \u001b[38;5;28;43mself\u001b[39;49m\u001b[38;5;241;43m.\u001b[39;49m\u001b[43mmapPartitions\u001b[49m\u001b[43m(\u001b[49m\u001b[38;5;28;43;01mlambda\u001b[39;49;00m\u001b[43m \u001b[49m\u001b[43mx\u001b[49m\u001b[43m:\u001b[49m\u001b[43m \u001b[49m\u001b[43m[\u001b[49m\u001b[38;5;28;43msum\u001b[39;49m\u001b[43m(\u001b[49m\u001b[43mx\u001b[49m\u001b[43m)\u001b[49m\u001b[43m]\u001b[49m\u001b[43m)\u001b[49m\u001b[38;5;241;43m.\u001b[39;49m\u001b[43mfold\u001b[49m\u001b[43m(\u001b[49m\u001b[38;5;241;43m0\u001b[39;49m\u001b[43m,\u001b[49m\u001b[43m \u001b[49m\u001b[43moperator\u001b[49m\u001b[38;5;241;43m.\u001b[39;49m\u001b[43madd\u001b[49m\u001b[43m)\u001b[49m\n",
      "File \u001b[0;32m/opt/conda/lib/python3.9/site-packages/pyspark/rdd.py:1080\u001b[0m, in \u001b[0;36mRDD.fold\u001b[0;34m(self, zeroValue, op)\u001b[0m\n\u001b[1;32m   1076\u001b[0m     \u001b[38;5;28;01myield\u001b[39;00m acc\n\u001b[1;32m   1077\u001b[0m \u001b[38;5;66;03m# collecting result of mapPartitions here ensures that the copy of\u001b[39;00m\n\u001b[1;32m   1078\u001b[0m \u001b[38;5;66;03m# zeroValue provided to each partition is unique from the one provided\u001b[39;00m\n\u001b[1;32m   1079\u001b[0m \u001b[38;5;66;03m# to the final reduce call\u001b[39;00m\n\u001b[0;32m-> 1080\u001b[0m vals \u001b[38;5;241m=\u001b[39m \u001b[38;5;28;43mself\u001b[39;49m\u001b[38;5;241;43m.\u001b[39;49m\u001b[43mmapPartitions\u001b[49m\u001b[43m(\u001b[49m\u001b[43mfunc\u001b[49m\u001b[43m)\u001b[49m\u001b[38;5;241;43m.\u001b[39;49m\u001b[43mcollect\u001b[49m\u001b[43m(\u001b[49m\u001b[43m)\u001b[49m\n\u001b[1;32m   1081\u001b[0m \u001b[38;5;28;01mreturn\u001b[39;00m reduce(op, vals, zeroValue)\n",
      "File \u001b[0;32m/opt/conda/lib/python3.9/site-packages/pyspark/rdd.py:950\u001b[0m, in \u001b[0;36mRDD.collect\u001b[0;34m(self)\u001b[0m\n\u001b[1;32m    941\u001b[0m \u001b[38;5;124;03m\"\"\"\u001b[39;00m\n\u001b[1;32m    942\u001b[0m \u001b[38;5;124;03mReturn a list that contains all of the elements in this RDD.\u001b[39;00m\n\u001b[1;32m    943\u001b[0m \n\u001b[0;32m   (...)\u001b[0m\n\u001b[1;32m    947\u001b[0m \u001b[38;5;124;03mto be small, as all the data is loaded into the driver's memory.\u001b[39;00m\n\u001b[1;32m    948\u001b[0m \u001b[38;5;124;03m\"\"\"\u001b[39;00m\n\u001b[1;32m    949\u001b[0m \u001b[38;5;28;01mwith\u001b[39;00m SCCallSiteSync(\u001b[38;5;28mself\u001b[39m\u001b[38;5;241m.\u001b[39mcontext) \u001b[38;5;28;01mas\u001b[39;00m css:\n\u001b[0;32m--> 950\u001b[0m     sock_info \u001b[38;5;241m=\u001b[39m \u001b[38;5;28;43mself\u001b[39;49m\u001b[38;5;241;43m.\u001b[39;49m\u001b[43mctx\u001b[49m\u001b[38;5;241;43m.\u001b[39;49m\u001b[43m_jvm\u001b[49m\u001b[38;5;241;43m.\u001b[39;49m\u001b[43mPythonRDD\u001b[49m\u001b[38;5;241;43m.\u001b[39;49m\u001b[43mcollectAndServe\u001b[49m\u001b[43m(\u001b[49m\u001b[38;5;28;43mself\u001b[39;49m\u001b[38;5;241;43m.\u001b[39;49m\u001b[43m_jrdd\u001b[49m\u001b[38;5;241;43m.\u001b[39;49m\u001b[43mrdd\u001b[49m\u001b[43m(\u001b[49m\u001b[43m)\u001b[49m\u001b[43m)\u001b[49m\n\u001b[1;32m    951\u001b[0m \u001b[38;5;28;01mreturn\u001b[39;00m \u001b[38;5;28mlist\u001b[39m(_load_from_socket(sock_info, \u001b[38;5;28mself\u001b[39m\u001b[38;5;241m.\u001b[39m_jrdd_deserializer))\n",
      "File \u001b[0;32m/opt/conda/lib/python3.9/site-packages/py4j/java_gateway.py:1320\u001b[0m, in \u001b[0;36mJavaMember.__call__\u001b[0;34m(self, *args)\u001b[0m\n\u001b[1;32m   1313\u001b[0m args_command, temp_args \u001b[38;5;241m=\u001b[39m \u001b[38;5;28mself\u001b[39m\u001b[38;5;241m.\u001b[39m_build_args(\u001b[38;5;241m*\u001b[39margs)\n\u001b[1;32m   1315\u001b[0m command \u001b[38;5;241m=\u001b[39m proto\u001b[38;5;241m.\u001b[39mCALL_COMMAND_NAME \u001b[38;5;241m+\u001b[39m\\\n\u001b[1;32m   1316\u001b[0m     \u001b[38;5;28mself\u001b[39m\u001b[38;5;241m.\u001b[39mcommand_header \u001b[38;5;241m+\u001b[39m\\\n\u001b[1;32m   1317\u001b[0m     args_command \u001b[38;5;241m+\u001b[39m\\\n\u001b[1;32m   1318\u001b[0m     proto\u001b[38;5;241m.\u001b[39mEND_COMMAND_PART\n\u001b[0;32m-> 1320\u001b[0m answer \u001b[38;5;241m=\u001b[39m \u001b[38;5;28;43mself\u001b[39;49m\u001b[38;5;241;43m.\u001b[39;49m\u001b[43mgateway_client\u001b[49m\u001b[38;5;241;43m.\u001b[39;49m\u001b[43msend_command\u001b[49m\u001b[43m(\u001b[49m\u001b[43mcommand\u001b[49m\u001b[43m)\u001b[49m\n\u001b[1;32m   1321\u001b[0m return_value \u001b[38;5;241m=\u001b[39m get_return_value(\n\u001b[1;32m   1322\u001b[0m     answer, \u001b[38;5;28mself\u001b[39m\u001b[38;5;241m.\u001b[39mgateway_client, \u001b[38;5;28mself\u001b[39m\u001b[38;5;241m.\u001b[39mtarget_id, \u001b[38;5;28mself\u001b[39m\u001b[38;5;241m.\u001b[39mname)\n\u001b[1;32m   1324\u001b[0m \u001b[38;5;28;01mfor\u001b[39;00m temp_arg \u001b[38;5;129;01min\u001b[39;00m temp_args:\n",
      "File \u001b[0;32m/opt/conda/lib/python3.9/site-packages/py4j/java_gateway.py:1038\u001b[0m, in \u001b[0;36mGatewayClient.send_command\u001b[0;34m(self, command, retry, binary)\u001b[0m\n\u001b[1;32m   1036\u001b[0m connection \u001b[38;5;241m=\u001b[39m \u001b[38;5;28mself\u001b[39m\u001b[38;5;241m.\u001b[39m_get_connection()\n\u001b[1;32m   1037\u001b[0m \u001b[38;5;28;01mtry\u001b[39;00m:\n\u001b[0;32m-> 1038\u001b[0m     response \u001b[38;5;241m=\u001b[39m \u001b[43mconnection\u001b[49m\u001b[38;5;241;43m.\u001b[39;49m\u001b[43msend_command\u001b[49m\u001b[43m(\u001b[49m\u001b[43mcommand\u001b[49m\u001b[43m)\u001b[49m\n\u001b[1;32m   1039\u001b[0m     \u001b[38;5;28;01mif\u001b[39;00m binary:\n\u001b[1;32m   1040\u001b[0m         \u001b[38;5;28;01mreturn\u001b[39;00m response, \u001b[38;5;28mself\u001b[39m\u001b[38;5;241m.\u001b[39m_create_connection_guard(connection)\n",
      "File \u001b[0;32m/opt/conda/lib/python3.9/site-packages/py4j/clientserver.py:475\u001b[0m, in \u001b[0;36mClientServerConnection.send_command\u001b[0;34m(self, command)\u001b[0m\n\u001b[1;32m    473\u001b[0m \u001b[38;5;28;01mtry\u001b[39;00m:\n\u001b[1;32m    474\u001b[0m     \u001b[38;5;28;01mwhile\u001b[39;00m \u001b[38;5;28;01mTrue\u001b[39;00m:\n\u001b[0;32m--> 475\u001b[0m         answer \u001b[38;5;241m=\u001b[39m smart_decode(\u001b[38;5;28;43mself\u001b[39;49m\u001b[38;5;241;43m.\u001b[39;49m\u001b[43mstream\u001b[49m\u001b[38;5;241;43m.\u001b[39;49m\u001b[43mreadline\u001b[49m\u001b[43m(\u001b[49m\u001b[43m)\u001b[49m[:\u001b[38;5;241m-\u001b[39m\u001b[38;5;241m1\u001b[39m])\n\u001b[1;32m    476\u001b[0m         logger\u001b[38;5;241m.\u001b[39mdebug(\u001b[38;5;124m\"\u001b[39m\u001b[38;5;124mAnswer received: \u001b[39m\u001b[38;5;132;01m{0}\u001b[39;00m\u001b[38;5;124m\"\u001b[39m\u001b[38;5;241m.\u001b[39mformat(answer))\n\u001b[1;32m    477\u001b[0m         \u001b[38;5;66;03m# Happens when a the other end is dead. There might be an empty\u001b[39;00m\n\u001b[1;32m    478\u001b[0m         \u001b[38;5;66;03m# answer before the socket raises an error.\u001b[39;00m\n",
      "File \u001b[0;32m/opt/conda/lib/python3.9/socket.py:704\u001b[0m, in \u001b[0;36mSocketIO.readinto\u001b[0;34m(self, b)\u001b[0m\n\u001b[1;32m    702\u001b[0m \u001b[38;5;28;01mwhile\u001b[39;00m \u001b[38;5;28;01mTrue\u001b[39;00m:\n\u001b[1;32m    703\u001b[0m     \u001b[38;5;28;01mtry\u001b[39;00m:\n\u001b[0;32m--> 704\u001b[0m         \u001b[38;5;28;01mreturn\u001b[39;00m \u001b[38;5;28;43mself\u001b[39;49m\u001b[38;5;241;43m.\u001b[39;49m\u001b[43m_sock\u001b[49m\u001b[38;5;241;43m.\u001b[39;49m\u001b[43mrecv_into\u001b[49m\u001b[43m(\u001b[49m\u001b[43mb\u001b[49m\u001b[43m)\u001b[49m\n\u001b[1;32m    705\u001b[0m     \u001b[38;5;28;01mexcept\u001b[39;00m timeout:\n\u001b[1;32m    706\u001b[0m         \u001b[38;5;28mself\u001b[39m\u001b[38;5;241m.\u001b[39m_timeout_occurred \u001b[38;5;241m=\u001b[39m \u001b[38;5;28;01mTrue\u001b[39;00m\n",
      "\u001b[0;31mKeyboardInterrupt\u001b[0m: "
     ]
    }
   ],
   "source": [
    "rdd.count()"
   ]
  },
  {
   "cell_type": "code",
   "execution_count": null,
   "id": "9a774756-239b-4848-b1e4-babef5504934",
   "metadata": {},
   "outputs": [],
   "source": []
  }
 ],
 "metadata": {
  "kernelspec": {
   "display_name": "Python 3 (ipykernel)",
   "language": "python",
   "name": "python3"
  },
  "language_info": {
   "codemirror_mode": {
    "name": "ipython",
    "version": 3
   },
   "file_extension": ".py",
   "mimetype": "text/x-python",
   "name": "python",
   "nbconvert_exporter": "python",
   "pygments_lexer": "ipython3",
   "version": "3.9.7"
  }
 },
 "nbformat": 4,
 "nbformat_minor": 5
}
