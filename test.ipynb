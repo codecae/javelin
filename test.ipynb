{
 "cells": [
  {
   "cell_type": "code",
   "execution_count": 1,
   "id": "0f1bd2fe-716e-440e-be69-5565585ea073",
   "metadata": {
    "execution": {
     "iopub.execute_input": "2022-03-10T19:24:04.984341Z",
     "iopub.status.busy": "2022-03-10T19:24:04.984159Z",
     "iopub.status.idle": "2022-03-10T19:24:04.989413Z",
     "shell.execute_reply": "2022-03-10T19:24:04.989054Z"
    },
    "papermill": {
     "duration": 0.023021,
     "end_time": "2022-03-10T19:24:04.990525",
     "exception": false,
     "start_time": "2022-03-10T19:24:04.967504",
     "status": "completed"
    },
    "tags": [
     "parameters"
    ]
   },
   "outputs": [],
   "source": [
    "# parameters\n",
    "schema = 'Sales'\n",
    "table = 'InvoiceLines'"
   ]
  },
  {
   "cell_type": "code",
   "execution_count": 2,
   "id": "e17d0bff",
   "metadata": {
    "execution": {
     "iopub.execute_input": "2022-03-10T19:24:05.011771Z",
     "iopub.status.busy": "2022-03-10T19:24:05.011354Z",
     "iopub.status.idle": "2022-03-10T19:24:05.014288Z",
     "shell.execute_reply": "2022-03-10T19:24:05.013700Z"
    },
    "papermill": {
     "duration": 0.015641,
     "end_time": "2022-03-10T19:24:05.015566",
     "exception": false,
     "start_time": "2022-03-10T19:24:04.999925",
     "status": "completed"
    },
    "tags": [
     "injected-parameters"
    ]
   },
   "outputs": [],
   "source": [
    "# Parameters\n",
    "schema = \"Sales\"\n",
    "table = \"OrderLines\"\n"
   ]
  },
  {
   "cell_type": "code",
   "execution_count": 3,
   "id": "b5ced93b-619a-4d1c-b9d6-9999498de140",
   "metadata": {
    "execution": {
     "iopub.execute_input": "2022-03-10T19:24:05.035384Z",
     "iopub.status.busy": "2022-03-10T19:24:05.035103Z",
     "iopub.status.idle": "2022-03-10T19:24:05.744093Z",
     "shell.execute_reply": "2022-03-10T19:24:05.743687Z"
    },
    "papermill": {
     "duration": 0.720831,
     "end_time": "2022-03-10T19:24:05.745361",
     "exception": false,
     "start_time": "2022-03-10T19:24:05.024530",
     "status": "completed"
    },
    "tags": []
   },
   "outputs": [],
   "source": [
    "from javelin.source import SqlServerConnection, SqlServerSource\n",
    "from javelin.secret import VaultInjectorSecretProvider\n",
    "from javelin.operators import avro_encoder, json_encoder, parquet_encoder, add_hash\n",
    "from javelin.sink import AzureDataLakeStorageSink"
   ]
  },
  {
   "cell_type": "code",
   "execution_count": 4,
   "id": "571d478e-9249-46be-851e-fcea69ae6679",
   "metadata": {
    "execution": {
     "iopub.execute_input": "2022-03-10T19:24:05.765397Z",
     "iopub.status.busy": "2022-03-10T19:24:05.765034Z",
     "iopub.status.idle": "2022-03-10T19:24:05.767503Z",
     "shell.execute_reply": "2022-03-10T19:24:05.767178Z"
    },
    "papermill": {
     "duration": 0.014268,
     "end_time": "2022-03-10T19:24:05.768759",
     "exception": false,
     "start_time": "2022-03-10T19:24:05.754491",
     "status": "completed"
    },
    "tags": []
   },
   "outputs": [],
   "source": [
    "dbcreds = VaultInjectorSecretProvider(filename='core-creds.json')\n",
    "tenant = VaultInjectorSecretProvider(filename='azure-tenant.json')\n",
    "jhrole = VaultInjectorSecretProvider(filename='jupyterhub-role.json')"
   ]
  },
  {
   "cell_type": "code",
   "execution_count": 5,
   "id": "3169672d-0beb-4650-bd61-3d9ab54a9d4c",
   "metadata": {
    "execution": {
     "iopub.execute_input": "2022-03-10T19:24:05.788600Z",
     "iopub.status.busy": "2022-03-10T19:24:05.788288Z",
     "iopub.status.idle": "2022-03-10T19:24:05.792393Z",
     "shell.execute_reply": "2022-03-10T19:24:05.792020Z"
    },
    "papermill": {
     "duration": 0.015534,
     "end_time": "2022-03-10T19:24:05.793669",
     "exception": false,
     "start_time": "2022-03-10T19:24:05.778135",
     "status": "completed"
    },
    "tags": []
   },
   "outputs": [],
   "source": [
    "db = SqlServerConnection(\n",
    "    username=dbcreds.secrets[\"username\"],\n",
    "    password=dbcreds.secrets[\"password\"],\n",
    "    host=\"core.komprest.net\",\n",
    "    port=1433,\n",
    "    database=\"WideWorldImporters\",\n",
    "    driver_options={\n",
    "        \"driver\": \"ODBC Driver 17 for SQL Server\",\n",
    "        \"authentication\": \"SqlPassword\",\n",
    "        \"TrustServerCertificate\":\"yes\"\n",
    "    }\n",
    ")"
   ]
  },
  {
   "cell_type": "code",
   "execution_count": 6,
   "id": "293df02f-db44-4ccf-b6e4-96f1f4ab6b8a",
   "metadata": {
    "execution": {
     "iopub.execute_input": "2022-03-10T19:24:05.814088Z",
     "iopub.status.busy": "2022-03-10T19:24:05.813080Z",
     "iopub.status.idle": "2022-03-10T19:24:05.816758Z",
     "shell.execute_reply": "2022-03-10T19:24:05.816376Z"
    },
    "papermill": {
     "duration": 0.015411,
     "end_time": "2022-03-10T19:24:05.818103",
     "exception": false,
     "start_time": "2022-03-10T19:24:05.802692",
     "status": "completed"
    },
    "tags": []
   },
   "outputs": [],
   "source": [
    "src = SqlServerSource(config=db)\n",
    "src.schema_name=schema\n",
    "src.table_name=table"
   ]
  },
  {
   "cell_type": "code",
   "execution_count": 7,
   "id": "0088bb01-2531-4928-9b49-d7ac7009e0ed",
   "metadata": {
    "execution": {
     "iopub.execute_input": "2022-03-10T19:24:05.838472Z",
     "iopub.status.busy": "2022-03-10T19:24:05.838256Z",
     "iopub.status.idle": "2022-03-10T19:24:30.193872Z",
     "shell.execute_reply": "2022-03-10T19:24:30.193486Z"
    },
    "papermill": {
     "duration": 24.367838,
     "end_time": "2022-03-10T19:24:30.195243",
     "exception": false,
     "start_time": "2022-03-10T19:24:05.827405",
     "status": "completed"
    },
    "tags": []
   },
   "outputs": [
    {
     "name": "stderr",
     "output_type": "stream",
     "text": [
      "/home/hub/javelin/javelin/source/sql_server_source.py:69: SAWarning: Did not recognize type 'geography' of column 'DeliveryLocation'\n",
      "  self._table = Table(self.table_name, _md, autoload_with=_engine)\n",
      "/home/hub/javelin/javelin/source/sql_server_source.py:69: SAWarning: Did not recognize type 'geography' of column 'Location'\n",
      "  self._table = Table(self.table_name, _md, autoload_with=_engine)\n",
      "/home/hub/javelin/javelin/source/sql_server_source.py:69: SAWarning: Did not recognize type 'geography' of column 'Border'\n",
      "  self._table = Table(self.table_name, _md, autoload_with=_engine)\n"
     ]
    }
   ],
   "source": [
    "adls = AzureDataLakeStorageSink(\n",
    "    tenant_id=tenant.secrets[\"tenant_id\"],\n",
    "    client_id=jhrole.secrets[\"client_id\"],\n",
    "    client_secret=jhrole.secrets[\"client_secret\"],\n",
    "    storage_acct=\"cmbadls2\",\n",
    "    container=\"ingest\"\n",
    ")\n",
    "\n",
    "flow = src.observable_per(rows=100000).pipe(\n",
    "    add_hash(),\n",
    "    avro_encoder()\n",
    ").subscribe(lambda i: adls.write(i))\n",
    "flow.dispose()"
   ]
  },
  {
   "cell_type": "code",
   "execution_count": null,
   "id": "4b78bb1b-c93a-4979-bc7d-08eb10f7ed92",
   "metadata": {
    "papermill": {
     "duration": 0.011983,
     "end_time": "2022-03-10T19:24:30.220224",
     "exception": false,
     "start_time": "2022-03-10T19:24:30.208241",
     "status": "completed"
    },
    "tags": []
   },
   "outputs": [],
   "source": []
  }
 ],
 "metadata": {
  "kernelspec": {
   "display_name": "Python 3 (ipykernel)",
   "language": "python",
   "name": "python3"
  },
  "language_info": {
   "codemirror_mode": {
    "name": "ipython",
    "version": 3
   },
   "file_extension": ".py",
   "mimetype": "text/x-python",
   "name": "python",
   "nbconvert_exporter": "python",
   "pygments_lexer": "ipython3",
   "version": "3.9.7"
  },
  "papermill": {
   "default_parameters": {},
   "duration": 26.940631,
   "end_time": "2022-03-10T19:24:30.553411",
   "environment_variables": {},
   "exception": null,
   "input_path": "./Untitled2.ipynb",
   "output_path": "./test.ipynb",
   "parameters": {
    "schema": "Sales",
    "table": "OrderLines"
   },
   "start_time": "2022-03-10T19:24:03.612780",
   "version": "2.3.4"
  }
 },
 "nbformat": 4,
 "nbformat_minor": 5
}